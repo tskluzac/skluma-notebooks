{
 "cells": [
  {
   "cell_type": "markdown",
   "metadata": {},
   "source": [
    "# Skluma Globus Crawler Notebook\n",
    "\n",
    "#### <font color = 'grey'> This Jupyter notebook walks through how one can initialize, run, and evaluate a Skluma metadata extraction job on a Globus endpoint.</font>   "
   ]
  },
  {
   "cell_type": "markdown",
   "metadata": {},
   "source": [
    "## <font color = 'blue'> Step 1: Initialization.  </font>\n",
    "    \n",
    "### Here we use MDF forge to create a Globus transfer client, which allows us to access the endpoint, check that the scannable directory exists, and pull the files to the server running this Jupyter notebook.  "
   ]
  },
  {
   "cell_type": "code",
   "execution_count": 7,
   "metadata": {
    "collapsed": false
   },
   "outputs": [],
   "source": [
    "import globus_sdk\n",
    "from mdf_forge.forge import Forge\n",
    "\n",
    "## DEAR USERS: CHANGE THIS TO MATCH THE GLOBUS ENDPOINT AND INSCRIBED ENDPOINT THAT YOU WANT TO SCAN. \n",
    "ENDPOINT_UUID = \"3a261574-3a83-11e8-b997-0ac6873fc732\"\n",
    "ROOT_DIR = \"/\""
   ]
  },
  {
   "cell_type": "code",
   "execution_count": 8,
   "metadata": {
    "collapsed": false
   },
   "outputs": [
    {
     "name": "stdout",
     "output_type": "stream",
     "text": [
      "HTTP Status Code: 200\n",
      "Endpoint Display Name: CDIAC Dataset\n"
     ]
    }
   ],
   "source": [
    "# If first time logging in on machine, will direct you to Globus Auth COPY/PASTE page.\n",
    "mdf = Forge()   \n",
    "\n",
    "# From mdf's stored Globus refresh token, get an authorized transfer-client \n",
    "tc = mdf.transfer_client\n",
    "\n",
    "# Attempt to connect to the Globus endpoint. Will give status 200 if successful! \n",
    "try: \n",
    "    r = tc.get_endpoint(ENDPOINT_UUID)\n",
    "    print(\"HTTP Status Code:\", r.http_status)\n",
    "    print(\"Endpoint Display Name:\", r[\"display_name\"])\n",
    "    \n",
    "except globus_sdk.GlobusAPIError as ex:\n",
    "    print(\"HTTP Status Code:\", ex.http_status)\n",
    "    print(\"Error Code      :\", ex.code)\n",
    "    print(\"Error Message   :\", ex.message)"
   ]
  },
  {
   "cell_type": "markdown",
   "metadata": {},
   "source": [
    "## <font color='blue'> Step 2: Running Skluma </font> \n",
    "\n",
    "### Next, we iterate over the directories in the Globus endpoint, submit each file to Skluma for metadata extraction, and push the metadata to a Globus Search index"
   ]
  },
  {
   "cell_type": "code",
   "execution_count": null,
   "metadata": {
    "collapsed": false
   },
   "outputs": [
    {
     "name": "stdout",
     "output_type": "stream",
     "text": [
      "Processed 0 files in 50 directories...\n",
      "Processed 0 files in 100 directories...\n",
      "Processed 0 files in 150 directories...\n",
      "Processed 0 files in 200 directories...\n",
      "Processed 0 files in 250 directories...\n",
      "Processed 0 files in 300 directories...\n",
      "Processed 0 files in 350 directories...\n",
      "Processed 0 files in 400 directories...\n",
      "Processed 0 files in 450 directories...\n",
      "Processed 0 files in 500 directories...\n",
      "Processed 0 files in 550 directories...\n"
     ]
    }
   ],
   "source": [
    "### DFS by iteratively searching for directories in directories. \n",
    "endpoint_id = ENDPOINT_UUID\n",
    "endpoint_path = ROOT_DIR\n",
    "\n",
    "visited = set()\n",
    "unvisited_list = [endpoint_path]\n",
    "\n",
    "# Just so we can count directories without too many print statements\n",
    "dir_count = 0\n",
    "file_count = 0  ### TODO: create rudimentary file counter. \n",
    "\n",
    "while unvisited_list: # while unvisited elements.\n",
    "    \n",
    "    current_path = unvisited_list[-1]\n",
    "    unvisited_list.pop()\n",
    "        \n",
    "    visited.add(current_path)\n",
    "    r = tc.operation_ls(endpoint_id, path=current_path)\n",
    "    for item in r:\n",
    "        if item[\"type\"] == 'dir' and current_path + \"/\" + item[\"name\"] + \"/\" not in visited:\n",
    "            dir_count += 1\n",
    "            unvisited_list.append(current_path + \"/\" + item[\"name\"] + \"/\")\n",
    "            if dir_count % 50 == 0: \n",
    "                print(\"Processed \" + str(file_count) + \" files in \" + str(dir_count) + \" directories...\")\n",
    "                \n",
    "print(\"\\n Total Directories Processed: \" + dir_count)\n",
    "print(\"\\n Total Files Processed: \" + file_count)\n",
    "\n",
    "print(\"TODO: Pushing files to Globus Search...\")  ### TODO. "
   ]
  },
  {
   "cell_type": "markdown",
   "metadata": {
    "collapsed": true
   },
   "source": [
    "## <font color='blue'> Step 3: Evaluate Outputs </font>\n",
    "\n",
    "### Finally, we evaluate Skluma's metadata outputs. "
   ]
  },
  {
   "cell_type": "code",
   "execution_count": null,
   "metadata": {
    "collapsed": true
   },
   "outputs": [],
   "source": []
  }
 ],
 "metadata": {
  "kernelspec": {
   "display_name": "Python 3",
   "language": "python",
   "name": "python3"
  },
  "language_info": {
   "codemirror_mode": {
    "name": "ipython",
    "version": 3
   },
   "file_extension": ".py",
   "mimetype": "text/x-python",
   "name": "python",
   "nbconvert_exporter": "python",
   "pygments_lexer": "ipython3",
   "version": "3.6.3"
  }
 },
 "nbformat": 4,
 "nbformat_minor": 2
}
