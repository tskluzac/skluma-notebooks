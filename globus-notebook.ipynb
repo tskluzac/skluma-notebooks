{
 "cells": [
  {
   "cell_type": "markdown",
   "metadata": {},
   "source": [
    "# Skluma Globus Crawler Notebook\n",
    "\n",
    "#### <font color = 'grey'> This Jupyter notebook walks through how one can initialize, run, and evaluate a Skluma metadata extraction job on a Globus endpoint.</font>   "
   ]
  },
  {
   "cell_type": "markdown",
   "metadata": {},
   "source": [
    "## <font color = 'blue'> Step 1: Initialization.  </font>\n",
    "    \n",
    "#### Here we use MDF forge to create a Globus transfer client, which allows us to access the endpoint, check that the scannable directory exists, and pull the files to the server running this Jupyter notebook.  "
   ]
  },
  {
   "cell_type": "code",
   "execution_count": 1,
   "metadata": {},
   "outputs": [],
   "source": [
    "import globus_sdk\n",
    "import urllib\n",
    "from mdf_forge.forge import Forge\n",
    "\n",
    "## DEAR USERS: CHANGE THIS TO MATCH THE GLOBUS ENDPOINT AND INSCRIBED ENDPOINT THAT YOU WANT TO SCAN. \n",
    "ENDPOINT_UUID = \"3a261574-3a83-11e8-b997-0ac6873fc732\"\n",
    "\n",
    "ROOT_DIR = \"/cdiac.ornl.gov/pub8old/pub8/oceans/a23woce/\"\n",
    "DESTINATION_UUID = \"8661d976-f71d-11e8-8cd4-0a1d4c5c824a\"\n",
    "SKLUMA_SERVER_ROUTE = \"http://127.0.0.1:5001/\"\n",
    "\n",
    "\n",
    "# TODO: Remove the following (just get from Globus path) \n",
    "DESTINATION_STAGE = \"/home/tskluzac/Downloads/\"\n"
   ]
  },
  {
   "cell_type": "code",
   "execution_count": 2,
   "metadata": {},
   "outputs": [
    {
     "name": "stdout",
     "output_type": "stream",
     "text": [
      "HTTP Status Code: 200\n",
      "Endpoint Display Name: CDIAC Dataset\n"
     ]
    }
   ],
   "source": [
    "# If first time logging in on machine, will direct you to Globus Auth COPY/PASTE page.\n",
    "mdf = Forge()   \n",
    "\n",
    "# From mdf's stored Globus refresh token, get an authorized transfer-client \n",
    "tc = mdf.transfer_client\n",
    "\n",
    "# Attempt to connect to the Globus endpoint. Will give status 200 if successful! \n",
    "try: \n",
    "    r = tc.get_endpoint(ENDPOINT_UUID)\n",
    "    print(\"HTTP Status Code:\", r.http_status)\n",
    "    print(\"Endpoint Display Name:\", r[\"display_name\"])\n",
    "\n",
    "    \n",
    "except globus_sdk.GlobusAPIError as ex:\n",
    "    print(\"HTTP Status Code:\", ex.http_status)\n",
    "    print(\"Error Code      :\", ex.code)\n",
    "    print(\"Error Message   :\", ex.message)\n"
   ]
  },
  {
   "cell_type": "markdown",
   "metadata": {},
   "source": [
    "## <font color='blue'> Step 2: Running Skluma </font> \n",
    "\n",
    "#### Next, we iterate over the directories in the Globus endpoint, submit each file to Skluma for metadata extraction, and push the metadata to a Globus Search index"
   ]
  },
  {
   "cell_type": "code",
   "execution_count": 10,
   "metadata": {},
   "outputs": [
    {
     "name": "stdout",
     "output_type": "stream",
     "text": [
      "/cdiac.ornl.gov/pub8old/pub8/oceans/a23woce/README\n",
      "---cdiac.ornl.gov---pub8old---pub8---oceans---a23woce---README\n",
      "Transfer Task ID: fc3c2a5c-ff24-11e8-9345-0e3d676669f4\n",
      "/cdiac.ornl.gov/pub8old/pub8/oceans/a23woce/README~\n",
      "---cdiac.ornl.gov---pub8old---pub8---oceans---a23woce---README~\n",
      "Transfer Task ID: ff7159e0-ff24-11e8-9345-0e3d676669f4\n",
      "/cdiac.ornl.gov/pub8old/pub8/oceans/a23woce/a23_hy1.csv\n",
      "---cdiac.ornl.gov---pub8old---pub8---oceans---a23woce---a23_hy1.csv\n",
      "Transfer Task ID: 02e48462-ff25-11e8-9345-0e3d676669f4\n",
      "/cdiac.ornl.gov/pub8old/pub8/oceans/a23woce/a23do.pdf\n",
      "---cdiac.ornl.gov---pub8old---pub8---oceans---a23woce---a23do.pdf\n",
      "Transfer Task ID: 061b32e8-ff25-11e8-9345-0e3d676669f4\n",
      "\n",
      "Total Directories Processed: 0\n",
      "\n",
      "Total Files Processed: 0\n",
      "TODO: Pushing files to Globus Search...\n"
     ]
    }
   ],
   "source": [
    "import requests\n",
    "\n",
    "### DFS by iteratively searching for directories in directories. \n",
    "endpoint_id = ENDPOINT_UUID\n",
    "endpoint_path = ROOT_DIR\n",
    "\n",
    "\n",
    "visited_dirs = set()\n",
    "unvisited_dir_list = [endpoint_path]\n",
    "visited_files = set()\n",
    "unvisited_file_list = []\n",
    "\n",
    "# Just so we can count directories without too many print statements\n",
    "dir_count = 0\n",
    "file_count = 0  ### TODO: create rudimentary file counter. \n",
    "\n",
    "while unvisited_dir_list: # while unvisited elements exist...\n",
    "    \n",
    "    current_path = unvisited_dir_list[-1]\n",
    "    unvisited_dir_list.pop()\n",
    "        \n",
    "    visited_dirs.add(current_path)\n",
    "    r = tc.operation_ls(endpoint_id, path=current_path)\n",
    "    for item in r:\n",
    "        \n",
    "        file_path = current_path + \"/\" + item[\"name\"]\n",
    "        dir_path = file_path + \"/\"\n",
    "        \n",
    "        if item[\"type\"] == 'dir' and dir_path not in visited_dirs:\n",
    "            dir_count += 1\n",
    "            unvisited_dir_list.append(current_path + \"/\" + item[\"name\"] + \"/\")\n",
    "            if dir_count % 50 == 0: \n",
    "                print(\"Processed \" + str(file_count) + \" files in \" + str(dir_count) + \" directories...\")      \n",
    "        elif item[\"type\"] == 'file':\n",
    "            print(current_path + item[\"name\"])\n",
    "            tdata = globus_sdk.TransferData(tc, endpoint_id,\n",
    "                                DESTINATION_UUID,\n",
    "                                label=\"debug sklobus notebook\")\n",
    "            \n",
    "            # TODO: Can rename file right here -- USE UUID you bum. \n",
    "            path_comps = (current_path+item[\"name\"]).split('/')\n",
    "            uniq_filename = '?'.join(path_comps)  # Use this only for reconstructing filename (not tracking). \n",
    "            print(uniq_filename)\n",
    "            \n",
    "            # Filename changed to path-path-... \n",
    "            tdata.add_item(current_path + item[\"name\"], DESTINATION_STAGE + item[\"name\"])\n",
    "            submit_result = tc.submit_transfer(tdata)\n",
    "            print(\"Transfer Task ID:\", submit_result[\"task_id\"])\n",
    "\n",
    "            \n",
    "            # Here we submit the job to the Skluma server.\n",
    "            # TODO: Send old file path and new name here. \n",
    "            # TODO: Bring this back when working on race conditions. \n",
    "#             job_post_url = SKLUMA_SERVER_ROUTE + \"process_file/\" + filename\n",
    "            \n",
    "            submit_job = requests.post(job_post_url, allow_redirects=True)\n",
    "#             submit_job = urllib.request.urlopen(job_post_url).read()\n",
    "#             print(submit_job.content) # Callback from Skluma server.\n",
    "                        \n",
    "                \n",
    "print(\"\\nTotal Directories Processed: \" + str(dir_count))\n",
    "print(\"\\nTotal Files Processed: \" + str(file_count))\n",
    "\n",
    "print(\"TODO: Pushing files to Globus Search...\")  ### TODO. "
   ]
  },
  {
   "cell_type": "markdown",
   "metadata": {
    "collapsed": true
   },
   "source": [
    "## <font color='blue'> Step 3: Evaluate Outputs </font>\n",
    "\n",
    "#### Finally, we evaluate Skluma's metadata outputs. "
   ]
  },
  {
   "cell_type": "code",
   "execution_count": null,
   "metadata": {},
   "outputs": [],
   "source": [
    "# TODO 1: Graph (from DB) of outstanding/finished/failed extraction jobs. \n",
    "\n",
    "# TODO 2: Evaluate the number and type of each type of file. (see Fig 1)\n",
    "\n",
    "# TODO 3: Fine-grained analysis of structured data. \n",
    "\n",
    "# TODO 4: Fine-grained analysis of free text data.\n",
    "\n",
    "# TODO 5: Fine-grained analysis of image data. "
   ]
  }
 ],
 "metadata": {
  "kernelspec": {
   "display_name": "Python 3",
   "language": "python",
   "name": "python3"
  },
  "language_info": {
   "codemirror_mode": {
    "name": "ipython",
    "version": 3
   },
   "file_extension": ".py",
   "mimetype": "text/x-python",
   "name": "python",
   "nbconvert_exporter": "python",
   "pygments_lexer": "ipython3",
   "version": "3.6.7"
  }
 },
 "nbformat": 4,
 "nbformat_minor": 2
}
