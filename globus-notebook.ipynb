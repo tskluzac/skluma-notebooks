{
 "cells": [
  {
   "cell_type": "markdown",
   "metadata": {},
   "source": [
    "# Skluma Globus Crawler Notebook\n",
    "\n",
    "#### <font color = 'grey'> This Jupyter notebook walks through how one can initialize, run, and evaluate a Skluma metadata extraction job on a Globus endpoint.</font>   "
   ]
  },
  {
   "cell_type": "markdown",
   "metadata": {},
   "source": [
    "## <font color = 'blue'> Step 1: Initialization.  </font>\n",
    "    \n",
    "#### Here we use MDF forge to create a Globus transfer client, which allows us to access the endpoint, check that the scannable directory exists, and pull the files to the server running this Jupyter notebook.  "
   ]
  },
  {
   "cell_type": "code",
   "execution_count": 16,
   "metadata": {
    "collapsed": false
   },
   "outputs": [],
   "source": [
    "import globus_sdk\n",
    "from mdf_forge.forge import Forge\n",
    "\n",
    "## DEAR USERS: CHANGE THIS TO MATCH THE GLOBUS ENDPOINT AND INSCRIBED ENDPOINT THAT YOU WANT TO SCAN. \n",
    "ENDPOINT_UUID = \"3a261574-3a83-11e8-b997-0ac6873fc732\"\n",
    "ROOT_DIR = \"/cdiac.ornl.gov/pub8old/pub8/oceans/a23woce/\""
   ]
  },
  {
   "cell_type": "code",
   "execution_count": 17,
   "metadata": {
    "collapsed": false
   },
   "outputs": [
    {
     "name": "stdout",
     "output_type": "stream",
     "text": [
      "HTTP Status Code: 200\n",
      "Endpoint Display Name: CDIAC Dataset\n"
     ]
    }
   ],
   "source": [
    "# If first time logging in on machine, will direct you to Globus Auth COPY/PASTE page.\n",
    "mdf = Forge()   \n",
    "\n",
    "# From mdf's stored Globus refresh token, get an authorized transfer-client \n",
    "tc = mdf.transfer_client\n",
    "\n",
    "# Attempt to connect to the Globus endpoint. Will give status 200 if successful! \n",
    "try: \n",
    "    r = tc.get_endpoint(ENDPOINT_UUID)\n",
    "    print(\"HTTP Status Code:\", r.http_status)\n",
    "    print(\"Endpoint Display Name:\", r[\"display_name\"])\n",
    "    \n",
    "except globus_sdk.GlobusAPIError as ex:\n",
    "    print(\"HTTP Status Code:\", ex.http_status)\n",
    "    print(\"Error Code      :\", ex.code)\n",
    "    print(\"Error Message   :\", ex.message)"
   ]
  },
  {
   "cell_type": "markdown",
   "metadata": {},
   "source": [
    "## <font color='blue'> Step 2: Running Skluma </font> \n",
    "\n",
    "#### Next, we iterate over the directories in the Globus endpoint, submit each file to Skluma for metadata extraction, and push the metadata to a Globus Search index"
   ]
  },
  {
   "cell_type": "code",
   "execution_count": 26,
   "metadata": {
    "collapsed": false
   },
   "outputs": [
    {
     "name": "stdout",
     "output_type": "stream",
     "text": [
      "/cdiac.ornl.gov/pub8old/pub8/oceans/a23woce/README\n",
      "Task ID: 0902c134-f40c-11e8-8ccf-0a1d4c5c824a\n",
      "/cdiac.ornl.gov/pub8old/pub8/oceans/a23woce/README~\n",
      "Task ID: 094d0168-f40c-11e8-8ccf-0a1d4c5c824a\n",
      "/cdiac.ornl.gov/pub8old/pub8/oceans/a23woce/a23_hy1.csv\n",
      "Task ID: 09236705-f40c-11e8-8ccf-0a1d4c5c824a\n",
      "/cdiac.ornl.gov/pub8old/pub8/oceans/a23woce/a23do.pdf\n",
      "Task ID: 09e62974-f40c-11e8-8ccf-0a1d4c5c824a\n",
      "\n",
      " Total Directories Processed: 0\n",
      "\n",
      " Total Files Processed: 0\n",
      "TODO: Pushing files to Globus Search...\n"
     ]
    }
   ],
   "source": [
    "### DFS by iteratively searching for directories in directories. \n",
    "endpoint_id = ENDPOINT_UUID\n",
    "endpoint_path = ROOT_DIR\n",
    "\n",
    "destination_id = \"8a8c01a4-02bb-11e8-a65a-0a448319c2f8\"\n",
    "\n",
    "visited_dirs = set()\n",
    "unvisited_dir_list = [endpoint_path]\n",
    "visited_files = set()\n",
    "unvisited_file_list = []\n",
    "\n",
    "# Just so we can count directories without too many print statements\n",
    "dir_count = 0\n",
    "file_count = 0  ### TODO: create rudimentary file counter. \n",
    "\n",
    "while unvisited_dir_list: # while unvisited elements exist...\n",
    "    \n",
    "    current_path = unvisited_dir_list[-1]\n",
    "    unvisited_dir_list.pop()\n",
    "        \n",
    "    visited_dirs.add(current_path)\n",
    "    r = tc.operation_ls(endpoint_id, path=current_path)\n",
    "    for item in r:\n",
    "        if item[\"type\"] == 'dir' and current_path + \"/\" + item[\"name\"] + \"/\" not in visited_dirs:\n",
    "            dir_count += 1\n",
    "            unvisited_dir_list.append(current_path + \"/\" + item[\"name\"] + \"/\")\n",
    "            if dir_count % 50 == 0: \n",
    "                print(\"Processed \" + str(file_count) + \" files in \" + str(dir_count) + \" directories...\")      \n",
    "        elif item[\"type\"] == 'file':\n",
    "            print(current_path + item[\"name\"])\n",
    "            tdata = globus_sdk.TransferData(tc, endpoint_id,\n",
    "                                destination_id,\n",
    "                                label=\"debug sklobus notebook\")\n",
    "            tdata.add_item(current_path + item[\"name\"], \"/home/skluzacek/Downloads/\" + item[\"name\"])\n",
    "            \n",
    "            submit_result = tc.submit_transfer(tdata)\n",
    "            print(\"Task ID:\", submit_result[\"task_id\"])\n",
    "\n",
    "            # (2) extract metadata\n",
    "            # (3) delete file's local copy\n",
    "                \n",
    "print(\"\\n Total Directories Processed: \" + str(dir_count))\n",
    "print(\"\\n Total Files Processed: \" + str(file_count))\n",
    "\n",
    "print(\"TODO: Pushing files to Globus Search...\")  ### TODO. "
   ]
  },
  {
   "cell_type": "markdown",
   "metadata": {
    "collapsed": true
   },
   "source": [
    "## <font color='blue'> Step 3: Evaluate Outputs </font>\n",
    "\n",
    "#### Finally, we evaluate Skluma's metadata outputs. "
   ]
  },
  {
   "cell_type": "code",
   "execution_count": null,
   "metadata": {
    "collapsed": true
   },
   "outputs": [],
   "source": []
  }
 ],
 "metadata": {
  "kernelspec": {
   "display_name": "Python 3",
   "language": "python",
   "name": "python3"
  },
  "language_info": {
   "codemirror_mode": {
    "name": "ipython",
    "version": 3
   },
   "file_extension": ".py",
   "mimetype": "text/x-python",
   "name": "python",
   "nbconvert_exporter": "python",
   "pygments_lexer": "ipython3",
   "version": "3.6.3"
  }
 },
 "nbformat": 4,
 "nbformat_minor": 2
}
